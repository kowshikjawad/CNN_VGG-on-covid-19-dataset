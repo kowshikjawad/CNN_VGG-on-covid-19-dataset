{
 "cells": [
  {
   "cell_type": "markdown",
   "id": "4568c08c",
   "metadata": {},
   "source": [
    "# Importing necessary libraries"
   ]
  },
  {
   "cell_type": "code",
   "execution_count": 2,
   "id": "72a80daa",
   "metadata": {},
   "outputs": [],
   "source": [
    "import numpy as np\n",
    "import matplotlib as plt \n",
    "import keras\n",
    "from keras.layers import *\n",
    "from keras.models import *\n",
    "from keras.preprocessing import image\n"
   ]
  },
  {
   "cell_type": "markdown",
   "id": "0f05556d",
   "metadata": {},
   "source": [
    "# Creating CNN Model\n"
   ]
  },
  {
   "cell_type": "code",
   "execution_count": 4,
   "id": "33c06895",
   "metadata": {},
   "outputs": [],
   "source": [
    "model = Sequential()\n",
    "model.add(Conv2D(32,kernel_size=(3,3),activation='relu',input_shape=(244,244,3)))\n",
    "model.add(Conv2D(32,(3,3),activation='relu'))\n",
    "model.add(MaxPooling2D(pool_size=(2,2)))\n",
    "model.add(Dropout(0.25))\n",
    "\n",
    "model.add(Conv2D(64,(3,3),activation='relu'))\n",
    "model.add(MaxPooling2D(pool_size=(2,2)))\n",
    "model.add(Dropout(0.25))\n",
    "\n",
    "model.add(Conv2D(128,(3,3),activation='relu'))\n",
    "model.add(MaxPooling2D(pool_size=(2,2)))\n",
    "model.add(Dropout(0.25))\n",
    "\n",
    "model.add(Flatten())\n",
    "model.add(Dense(64,activation='relu'))\n",
    "model.add(Dropout(0.5))\n",
    "model.add(Dense(1,activation='sigmoid'))\n",
    "\n",
    "model.compile(loss=keras.losses.binary_crossentropy,optimizer='adam',metrics=['accuracy'])\n"
   ]
  },
  {
   "cell_type": "markdown",
   "id": "2d92cbde",
   "metadata": {},
   "source": [
    "# Model Summary"
   ]
  },
  {
   "cell_type": "code",
   "execution_count": 5,
   "id": "007b10bd",
   "metadata": {},
   "outputs": [
    {
     "name": "stdout",
     "output_type": "stream",
     "text": [
      "Model: \"sequential\"\n",
      "_________________________________________________________________\n",
      " Layer (type)                Output Shape              Param #   \n",
      "=================================================================\n",
      " conv2d (Conv2D)             (None, 242, 242, 32)      896       \n",
      "                                                                 \n",
      " conv2d_1 (Conv2D)           (None, 240, 240, 32)      9248      \n",
      "                                                                 \n",
      " max_pooling2d (MaxPooling2D  (None, 120, 120, 32)     0         \n",
      " )                                                               \n",
      "                                                                 \n",
      " dropout (Dropout)           (None, 120, 120, 32)      0         \n",
      "                                                                 \n",
      " conv2d_2 (Conv2D)           (None, 118, 118, 64)      18496     \n",
      "                                                                 \n",
      " max_pooling2d_1 (MaxPooling  (None, 59, 59, 64)       0         \n",
      " 2D)                                                             \n",
      "                                                                 \n",
      " dropout_1 (Dropout)         (None, 59, 59, 64)        0         \n",
      "                                                                 \n",
      " conv2d_3 (Conv2D)           (None, 57, 57, 128)       73856     \n",
      "                                                                 \n",
      " max_pooling2d_2 (MaxPooling  (None, 28, 28, 128)      0         \n",
      " 2D)                                                             \n",
      "                                                                 \n",
      " dropout_2 (Dropout)         (None, 28, 28, 128)       0         \n",
      "                                                                 \n",
      " flatten (Flatten)           (None, 100352)            0         \n",
      "                                                                 \n",
      " dense (Dense)               (None, 64)                6422592   \n",
      "                                                                 \n",
      " dropout_3 (Dropout)         (None, 64)                0         \n",
      "                                                                 \n",
      " dense_1 (Dense)             (None, 1)                 65        \n",
      "                                                                 \n",
      "=================================================================\n",
      "Total params: 6,525,153\n",
      "Trainable params: 6,525,153\n",
      "Non-trainable params: 0\n",
      "_________________________________________________________________\n"
     ]
    }
   ],
   "source": [
    "model.summary()"
   ]
  },
  {
   "cell_type": "markdown",
   "id": "d3229ff5",
   "metadata": {},
   "source": [
    "# Creating test and train datagenerators"
   ]
  },
  {
   "cell_type": "code",
   "execution_count": 6,
   "id": "3f6a7945",
   "metadata": {},
   "outputs": [],
   "source": [
    "#train from scratch\n",
    "\n",
    "train_datagen = image.ImageDataGenerator(\n",
    "                rescale = 1./255,\n",
    "                shear_range = 0.2,\n",
    "                zoom_range = 0.2,\n",
    "                horizontal_flip = True\n",
    "                )\n",
    "test_dataset = image.ImageDataGenerator(rescale = 1./255)"
   ]
  },
  {
   "cell_type": "code",
   "execution_count": 8,
   "id": "52896c0f",
   "metadata": {},
   "outputs": [
    {
     "name": "stdout",
     "output_type": "stream",
     "text": [
      "Found 392 images belonging to 2 classes.\n"
     ]
    }
   ],
   "source": [
    "train_generator = train_datagen.flow_from_directory(\n",
    "                    'Dataset/Train',\n",
    "                    target_size = (244,244),\n",
    "                    batch_size = 32,\n",
    "                    class_mode = 'binary'\n",
    ")"
   ]
  },
  {
   "cell_type": "code",
   "execution_count": 9,
   "id": "043ba190",
   "metadata": {},
   "outputs": [
    {
     "data": {
      "text/plain": [
       "{'Covid': 0, 'Normal': 1}"
      ]
     },
     "execution_count": 9,
     "metadata": {},
     "output_type": "execute_result"
    }
   ],
   "source": [
    "train_generator.class_indices"
   ]
  },
  {
   "cell_type": "code",
   "execution_count": 11,
   "id": "e7968b2e",
   "metadata": {},
   "outputs": [
    {
     "name": "stdout",
     "output_type": "stream",
     "text": [
      "Found 624 images belonging to 2 classes.\n"
     ]
    }
   ],
   "source": [
    "test_generator = test_dataset.flow_from_directory(\n",
    "                    'chest_xray/test',\n",
    "                    target_size = (244,244),\n",
    "                    batch_size = 32,\n",
    "                    class_mode = 'binary'\n",
    ")"
   ]
  },
  {
   "cell_type": "markdown",
   "id": "8911e4fc",
   "metadata": {},
   "source": [
    "# Training the model "
   ]
  },
  {
   "cell_type": "code",
   "execution_count": 13,
   "id": "494ca6be",
   "metadata": {},
   "outputs": [
    {
     "name": "stderr",
     "output_type": "stream",
     "text": [
      "<ipython-input-13-de7bde30a62a>:1: UserWarning: `Model.fit_generator` is deprecated and will be removed in a future version. Please use `Model.fit`, which supports generators.\n",
      "  hist = model.fit_generator(\n"
     ]
    },
    {
     "name": "stdout",
     "output_type": "stream",
     "text": [
      "Epoch 1/10\n",
      "8/8 [==============================] - 38s 5s/step - loss: 1.5069 - accuracy: 0.4741 - val_loss: 0.6924 - val_accuracy: 0.5781\n",
      "Epoch 2/10\n",
      "8/8 [==============================] - 37s 4s/step - loss: 0.6913 - accuracy: 0.5905 - val_loss: 0.6923 - val_accuracy: 0.6406\n",
      "Epoch 3/10\n",
      "8/8 [==============================] - 38s 5s/step - loss: 0.6646 - accuracy: 0.5991 - val_loss: 0.7088 - val_accuracy: 0.3125\n",
      "Epoch 4/10\n",
      "8/8 [==============================] - 37s 5s/step - loss: 0.5538 - accuracy: 0.7198 - val_loss: 0.8214 - val_accuracy: 0.3906\n",
      "Epoch 5/10\n",
      "8/8 [==============================] - 43s 5s/step - loss: 0.4222 - accuracy: 0.8276 - val_loss: 1.1523 - val_accuracy: 0.3438\n",
      "Epoch 6/10\n",
      "8/8 [==============================] - 42s 5s/step - loss: 0.3722 - accuracy: 0.8398 - val_loss: 1.1959 - val_accuracy: 0.2969\n",
      "Epoch 7/10\n",
      "8/8 [==============================] - 38s 5s/step - loss: 0.2371 - accuracy: 0.9181 - val_loss: 1.6539 - val_accuracy: 0.4062\n",
      "Epoch 8/10\n",
      "8/8 [==============================] - 42s 5s/step - loss: 0.2884 - accuracy: 0.8966 - val_loss: 1.5978 - val_accuracy: 0.3594\n",
      "Epoch 9/10\n",
      "8/8 [==============================] - 42s 6s/step - loss: 0.2917 - accuracy: 0.8966 - val_loss: 1.6151 - val_accuracy: 0.3906\n",
      "Epoch 10/10\n",
      "8/8 [==============================] - 47s 6s/step - loss: 0.1846 - accuracy: 0.9310 - val_loss: 2.1704 - val_accuracy: 0.4062\n"
     ]
    }
   ],
   "source": [
    "hist = model.fit_generator(\n",
    "        train_generator,\n",
    "        steps_per_epoch = 8,\n",
    "        epochs = 10,\n",
    "        validation_data = test_generator,\n",
    "        validation_steps = 2\n",
    ")"
   ]
  },
  {
   "cell_type": "code",
   "execution_count": null,
   "id": "a935f716",
   "metadata": {},
   "outputs": [],
   "source": []
  }
 ],
 "metadata": {
  "kernelspec": {
   "display_name": "Python 3",
   "language": "python",
   "name": "python3"
  },
  "language_info": {
   "codemirror_mode": {
    "name": "ipython",
    "version": 3
   },
   "file_extension": ".py",
   "mimetype": "text/x-python",
   "name": "python",
   "nbconvert_exporter": "python",
   "pygments_lexer": "ipython3",
   "version": "3.8.8"
  }
 },
 "nbformat": 4,
 "nbformat_minor": 5
}
